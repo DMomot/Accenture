{
 "cells": [
  {
   "cell_type": "code",
   "execution_count": 319,
   "id": "74aef076",
   "metadata": {},
   "outputs": [],
   "source": [
    "import pandas as pd\n",
    "import numpy as np\n",
    "from IPython.core import display as ICD\n",
    "from sklearn.model_selection import train_test_split\n",
    "from sklearn.metrics import mean_squared_error, mean_absolute_error\n",
    "from sklearn.preprocessing import StandardScaler\n",
    "from sklearn.linear_model import ElasticNet\n",
    "from sklearn.ensemble import RandomForestRegressor\n",
    "from sklearn.gaussian_process import GaussianProcessRegressor\n",
    "from sklearn.gaussian_process.kernels import DotProduct, WhiteKernel, RBF\n",
    "import matplotlib.pyplot as plt\n",
    "from random import randrange"
   ]
  },
  {
   "cell_type": "code",
   "execution_count": 272,
   "id": "3fd0b991",
   "metadata": {},
   "outputs": [],
   "source": [
    "dat_fin = pd.read_csv(\"total_final_merge.csv\")\n",
    "dat_fin.fillna(0, inplace = True)\n",
    "dat_fin = dat_fin.drop([\"salerevenuerub\", \"promo_per_pcs\"], axis = 1)\n",
    "dat_fin[\"prev\"] = np.array([False]+[(dat_fin.iloc[i-1,5]!= 0) \\\n",
    "                                    & (dat_fin.iloc[i,5]!= 0) for i in range(1,len(dat_fin))]).astype(int)\n",
    "dat_fin.sale_dt = pd.to_datetime(dat_fin.sale_dt)\n",
    "dat_fin[\"month\"] = dat_fin.sale_dt.apply(lambda x: x.month)\n",
    "dat_fin = dat_fin.drop([\"sale_dt\", \"soldpieces\"], axis = 1)"
   ]
  },
  {
   "cell_type": "code",
   "execution_count": 274,
   "id": "422caaf6",
   "metadata": {},
   "outputs": [
    {
     "data": {
      "text/html": [
       "<div>\n",
       "<style scoped>\n",
       "    .dataframe tbody tr th:only-of-type {\n",
       "        vertical-align: middle;\n",
       "    }\n",
       "\n",
       "    .dataframe tbody tr th {\n",
       "        vertical-align: top;\n",
       "    }\n",
       "\n",
       "    .dataframe thead th {\n",
       "        text-align: right;\n",
       "    }\n",
       "</style>\n",
       "<table border=\"1\" class=\"dataframe\">\n",
       "  <thead>\n",
       "    <tr style=\"text-align: right;\">\n",
       "      <th></th>\n",
       "      <th>skutertiaryid</th>\n",
       "      <th>chaindiscountvalue</th>\n",
       "      <th>promo_cost</th>\n",
       "      <th>sales_groth</th>\n",
       "      <th>prev</th>\n",
       "      <th>month</th>\n",
       "    </tr>\n",
       "  </thead>\n",
       "  <tbody>\n",
       "    <tr>\n",
       "      <th>0</th>\n",
       "      <td>7182</td>\n",
       "      <td>0.0</td>\n",
       "      <td>0</td>\n",
       "      <td>0.0</td>\n",
       "      <td>0</td>\n",
       "      <td>1</td>\n",
       "    </tr>\n",
       "    <tr>\n",
       "      <th>1</th>\n",
       "      <td>7182</td>\n",
       "      <td>0.0</td>\n",
       "      <td>0</td>\n",
       "      <td>0.0</td>\n",
       "      <td>0</td>\n",
       "      <td>1</td>\n",
       "    </tr>\n",
       "    <tr>\n",
       "      <th>2</th>\n",
       "      <td>7182</td>\n",
       "      <td>0.0</td>\n",
       "      <td>0</td>\n",
       "      <td>0.0</td>\n",
       "      <td>0</td>\n",
       "      <td>1</td>\n",
       "    </tr>\n",
       "    <tr>\n",
       "      <th>3</th>\n",
       "      <td>7182</td>\n",
       "      <td>0.0</td>\n",
       "      <td>0</td>\n",
       "      <td>0.0</td>\n",
       "      <td>0</td>\n",
       "      <td>1</td>\n",
       "    </tr>\n",
       "    <tr>\n",
       "      <th>4</th>\n",
       "      <td>7182</td>\n",
       "      <td>0.0</td>\n",
       "      <td>0</td>\n",
       "      <td>0.0</td>\n",
       "      <td>0</td>\n",
       "      <td>2</td>\n",
       "    </tr>\n",
       "  </tbody>\n",
       "</table>\n",
       "</div>"
      ],
      "text/plain": [
       "   skutertiaryid  chaindiscountvalue  promo_cost  sales_groth  prev  month\n",
       "0           7182                 0.0           0          0.0     0      1\n",
       "1           7182                 0.0           0          0.0     0      1\n",
       "2           7182                 0.0           0          0.0     0      1\n",
       "3           7182                 0.0           0          0.0     0      1\n",
       "4           7182                 0.0           0          0.0     0      2"
      ]
     },
     "execution_count": 274,
     "metadata": {},
     "output_type": "execute_result"
    }
   ],
   "source": [
    "dat_fin.head()"
   ]
  },
  {
   "cell_type": "code",
   "execution_count": 317,
   "id": "a32cbe5f",
   "metadata": {},
   "outputs": [
    {
     "name": "stderr",
     "output_type": "stream",
     "text": [
      "<ipython-input-317-805cd8aeaaad>:10: DataConversionWarning: A column-vector y was passed when a 1d array was expected. Please change the shape of y to (n_samples,), for example using ravel().\n",
      "  Y_pred = model.fit(X_train, Y_train).predict(X_test)\n"
     ]
    },
    {
     "name": "stdout",
     "output_type": "stream",
     "text": [
      "Model fitted parameters are: [0.7388997 0.2611003] \n",
      "RMSE:[50300.15284998413], \n",
      "MAE:30697.470175438597\n"
     ]
    }
   ],
   "source": [
    "mse_arr = []\n",
    "model = RandomForestRegressor(n_estimators= 300)\n",
    "tmp_df = dat_fin.drop([\"skutertiaryid\"], axis = 1)[dat_fin.sales_groth != 0]\n",
    "X = tmp_df[[\"promo_cost\", \"month\"]].values#tmp_df[[\"chaindiscountvalue\", \"promo_cost\", \"prev\", \"month\"]].values\n",
    "Y = tmp_df[[\"sales_groth\"]].values\n",
    "X_train, X_test, Y_train, Y_test = train_test_split(X, Y, test_size=0.3, shuffle = True)\n",
    "scaler = StandardScaler().fit(X_train)\n",
    "#X_train = scaler.transform(X_train)\n",
    "#X_test = scaler.transform(X_test)\n",
    "Y_pred = model.fit(X_train, Y_train).predict(X_test)\n",
    "#Y_pred2 = gpr.fit(X_train, Y_train).predict(X_test)\n",
    "mse_arr.append([mean_squared_error(Y_pred, Y_test, squared= False)])#, mean_squared_error(Y_pred2, Y_test, squared= False)])\n",
    "print(f\"Model fitted parameters are: {model.feature_importances_} \\nRMSE:{mse_arr[0]}, \\\n",
    "\\nMAE:{mean_absolute_error(Y_pred, Y_test)}\")"
   ]
  },
  {
   "cell_type": "code",
   "execution_count": 318,
   "id": "2d1fd455",
   "metadata": {},
   "outputs": [
    {
     "data": {
      "text/plain": [
       "<matplotlib.collections.PathCollection at 0x1cd9b716400>"
      ]
     },
     "execution_count": 318,
     "metadata": {},
     "output_type": "execute_result"
    },
    {
     "data": {
      "image/png": "[encoded data removed]",
      "text/plain": [
       "<Figure size 720x360 with 1 Axes>"
      ]
     },
     "metadata": {
      "needs_background": "light"
     },
     "output_type": "display_data"
    }
   ],
   "source": [
    "plt.figure(figsize=(10,5))\n",
    "plt.scatter(X_test[:,0],Y_test)\n",
    "plt.scatter(X_test[:,0],Y_pred)"
   ]
  },
  {
   "cell_type": "code",
   "execution_count": 502,
   "id": "f294e2a4",
   "metadata": {},
   "outputs": [],
   "source": [
    "class PromoVector:\n",
    "    def __init__(self, cash, estimator):\n",
    "        self.cash = cash\n",
    "        self.months = np.array([0, 0, 0, 0, 0, 0, 0, 0, 0, 0, 0, 0])\n",
    "        self.estimator = estimator\n",
    "        #self.prev_part = []\n",
    "    \n",
    "    def random_partition(self, n, s):\n",
    "        partition = [0] * s\n",
    "        for x in range(n):\n",
    "            partition[random.randrange(s)] += 1\n",
    "        return np.array(partition)\n",
    "    \n",
    "    def mutate(self):\n",
    "        ###Step 1 - mutate random month\n",
    "        r = randrange(12)\n",
    "        self.months[r] = self.months[r]^1\n",
    "        #print(self.cash,int(sum(self.months)))\n",
    "        money_vec = np.zeros_like(self.months)\n",
    "        money_vec[np.where(self.months == 1)] = self.random_partition(self.cash, int(sum(self.months)))\n",
    "        #print(money_vec)\n",
    "        X = np.hstack((money_vec.reshape(-1,1), self.months.reshape(-1,1)))\n",
    "        Y_pred = self.estimator.predict(X[self.months!=0,:])\n",
    "        total_win = Y_pred.sum()\n",
    "        return (total_win, X, Y_pred) \n",
    "            "
   ]
  },
  {
   "cell_type": "code",
   "execution_count": 503,
   "id": "e359a149",
   "metadata": {},
   "outputs": [],
   "source": [
    "a = PromoVector(120000, model)"
   ]
  },
  {
   "cell_type": "code",
   "execution_count": 511,
   "id": "732c3b23",
   "metadata": {},
   "outputs": [
    {
     "data": {
      "text/plain": [
       "(61558.77333333333,\n",
       " array([[    0,     0],\n",
       "        [    0,     0],\n",
       "        [    0,     0],\n",
       "        [29886,     1],\n",
       "        [    0,     0],\n",
       "        [    0,     0],\n",
       "        [29962,     1],\n",
       "        [    0,     0],\n",
       "        [    0,     0],\n",
       "        [30057,     1],\n",
       "        [    0,     0],\n",
       "        [30095,     1]]),\n",
       " array([15389.69333333, 15389.69333333, 15389.69333333, 15389.69333333]))"
      ]
     },
     "execution_count": 511,
     "metadata": {},
     "output_type": "execute_result"
    }
   ],
   "source": [
    "a.mutate()"
   ]
  },
  {
   "cell_type": "code",
   "execution_count": null,
   "id": "e67e265f",
   "metadata": {},
   "outputs": [],
   "source": []
  }
 ],
 "metadata": {
  "kernelspec": {
   "display_name": "Python 3",
   "language": "python",
   "name": "python3"
  },
  "language_info": {
   "codemirror_mode": {
    "name": "ipython",
    "version": 3
   },
   "file_extension": ".py",
   "mimetype": "text/x-python",
   "name": "python",
   "nbconvert_exporter": "python",
   "pygments_lexer": "ipython3",
   "version": "3.8.8"
  }
 },
 "nbformat": 4,
 "nbformat_minor": 5
}
